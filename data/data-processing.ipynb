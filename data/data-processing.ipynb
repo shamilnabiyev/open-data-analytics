{
 "cells": [
  {
   "cell_type": "code",
   "execution_count": 47,
   "id": "8381fed5",
   "metadata": {},
   "outputs": [],
   "source": [
    "import pandas as pd\n",
    "import matplotlib.pyplot as plt\n",
    "plt.rcParams['agg.path.chunksize'] = 1000000"
   ]
  },
  {
   "cell_type": "code",
   "execution_count": 19,
   "id": "d281ce4c",
   "metadata": {},
   "outputs": [
    {
     "data": {
      "text/html": [
       "<div>\n",
       "<style scoped>\n",
       "    .dataframe tbody tr th:only-of-type {\n",
       "        vertical-align: middle;\n",
       "    }\n",
       "\n",
       "    .dataframe tbody tr th {\n",
       "        vertical-align: top;\n",
       "    }\n",
       "\n",
       "    .dataframe thead th {\n",
       "        text-align: right;\n",
       "    }\n",
       "</style>\n",
       "<table border=\"1\" class=\"dataframe\">\n",
       "  <thead>\n",
       "    <tr style=\"text-align: right;\">\n",
       "      <th></th>\n",
       "      <th>BST_NR_8</th>\n",
       "      <th>Land</th>\n",
       "      <th>PROD_DATUM</th>\n",
       "      <th>Zugfahrten</th>\n",
       "      <th>Verspaetungsminuten</th>\n",
       "    </tr>\n",
       "  </thead>\n",
       "  <tbody>\n",
       "    <tr>\n",
       "      <th>0</th>\n",
       "      <td>80197079</td>\n",
       "      <td>DEUTSCHLAND</td>\n",
       "      <td>16.03.2016 00:00</td>\n",
       "      <td>39</td>\n",
       "      <td>49</td>\n",
       "    </tr>\n",
       "    <tr>\n",
       "      <th>1</th>\n",
       "      <td>80160168</td>\n",
       "      <td>DEUTSCHLAND</td>\n",
       "      <td>01.11.2016 00:00</td>\n",
       "      <td>12</td>\n",
       "      <td>0</td>\n",
       "    </tr>\n",
       "    <tr>\n",
       "      <th>2</th>\n",
       "      <td>80105122</td>\n",
       "      <td>DEUTSCHLAND</td>\n",
       "      <td>30.04.2016 00:00</td>\n",
       "      <td>16</td>\n",
       "      <td>2</td>\n",
       "    </tr>\n",
       "    <tr>\n",
       "      <th>3</th>\n",
       "      <td>80190793</td>\n",
       "      <td>DEUTSCHLAND</td>\n",
       "      <td>31.07.2016 00:00</td>\n",
       "      <td>14</td>\n",
       "      <td>0</td>\n",
       "    </tr>\n",
       "    <tr>\n",
       "      <th>4</th>\n",
       "      <td>80231464</td>\n",
       "      <td>DEUTSCHLAND</td>\n",
       "      <td>04.05.2016 00:00</td>\n",
       "      <td>10</td>\n",
       "      <td>2</td>\n",
       "    </tr>\n",
       "  </tbody>\n",
       "</table>\n",
       "</div>"
      ],
      "text/plain": [
       "   BST_NR_8         Land        PROD_DATUM  Zugfahrten  Verspaetungsminuten\n",
       "0  80197079  DEUTSCHLAND  16.03.2016 00:00          39                   49\n",
       "1  80160168  DEUTSCHLAND  01.11.2016 00:00          12                    0\n",
       "2  80105122  DEUTSCHLAND  30.04.2016 00:00          16                    2\n",
       "3  80190793  DEUTSCHLAND  31.07.2016 00:00          14                    0\n",
       "4  80231464  DEUTSCHLAND  04.05.2016 00:00          10                    2"
      ]
     },
     "execution_count": 19,
     "metadata": {},
     "output_type": "execute_result"
    }
   ],
   "source": [
    "df = pd.read_csv('db-cargo-delays-2016.csv', delimiter=';')\n",
    "df.head()"
   ]
  },
  {
   "cell_type": "code",
   "execution_count": 20,
   "id": "237efd52",
   "metadata": {},
   "outputs": [
    {
     "data": {
      "text/html": [
       "<div>\n",
       "<style scoped>\n",
       "    .dataframe tbody tr th:only-of-type {\n",
       "        vertical-align: middle;\n",
       "    }\n",
       "\n",
       "    .dataframe tbody tr th {\n",
       "        vertical-align: top;\n",
       "    }\n",
       "\n",
       "    .dataframe thead th {\n",
       "        text-align: right;\n",
       "    }\n",
       "</style>\n",
       "<table border=\"1\" class=\"dataframe\">\n",
       "  <thead>\n",
       "    <tr style=\"text-align: right;\">\n",
       "      <th></th>\n",
       "      <th>BST_NR_8</th>\n",
       "      <th>Land</th>\n",
       "      <th>PROD_DATUM</th>\n",
       "      <th>Zugfahrten</th>\n",
       "      <th>Verspaetungsminuten</th>\n",
       "    </tr>\n",
       "  </thead>\n",
       "  <tbody>\n",
       "    <tr>\n",
       "      <th>0</th>\n",
       "      <td>80197079</td>\n",
       "      <td>DEUTSCHLAND</td>\n",
       "      <td>16.03.2016 00:00</td>\n",
       "      <td>39</td>\n",
       "      <td>49</td>\n",
       "    </tr>\n",
       "    <tr>\n",
       "      <th>1</th>\n",
       "      <td>80160168</td>\n",
       "      <td>DEUTSCHLAND</td>\n",
       "      <td>01.11.2016 00:00</td>\n",
       "      <td>12</td>\n",
       "      <td>0</td>\n",
       "    </tr>\n",
       "    <tr>\n",
       "      <th>2</th>\n",
       "      <td>80105122</td>\n",
       "      <td>DEUTSCHLAND</td>\n",
       "      <td>30.04.2016 00:00</td>\n",
       "      <td>16</td>\n",
       "      <td>2</td>\n",
       "    </tr>\n",
       "    <tr>\n",
       "      <th>3</th>\n",
       "      <td>80190793</td>\n",
       "      <td>DEUTSCHLAND</td>\n",
       "      <td>31.07.2016 00:00</td>\n",
       "      <td>14</td>\n",
       "      <td>0</td>\n",
       "    </tr>\n",
       "    <tr>\n",
       "      <th>4</th>\n",
       "      <td>80231464</td>\n",
       "      <td>DEUTSCHLAND</td>\n",
       "      <td>04.05.2016 00:00</td>\n",
       "      <td>10</td>\n",
       "      <td>2</td>\n",
       "    </tr>\n",
       "  </tbody>\n",
       "</table>\n",
       "</div>"
      ],
      "text/plain": [
       "   BST_NR_8         Land        PROD_DATUM  Zugfahrten  Verspaetungsminuten\n",
       "0  80197079  DEUTSCHLAND  16.03.2016 00:00          39                   49\n",
       "1  80160168  DEUTSCHLAND  01.11.2016 00:00          12                    0\n",
       "2  80105122  DEUTSCHLAND  30.04.2016 00:00          16                    2\n",
       "3  80190793  DEUTSCHLAND  31.07.2016 00:00          14                    0\n",
       "4  80231464  DEUTSCHLAND  04.05.2016 00:00          10                    2"
      ]
     },
     "execution_count": 20,
     "metadata": {},
     "output_type": "execute_result"
    }
   ],
   "source": [
    "df[df['Land'] == 'DEUTSCHLAND'].head()"
   ]
  },
  {
   "cell_type": "code",
   "execution_count": 21,
   "id": "62b52f0e",
   "metadata": {},
   "outputs": [],
   "source": [
    "df2 = df[df['Land'] == 'DEUTSCHLAND']\n",
    "df2 = df2.reset_index(drop=True)\n",
    "df2.to_csv('db-cargo-delays-2016-deutschland.csv', index=False)"
   ]
  },
  {
   "cell_type": "code",
   "execution_count": 22,
   "id": "bb10e52a",
   "metadata": {},
   "outputs": [
    {
     "data": {
      "text/plain": [
       "(778955, 771621, 7334)"
      ]
     },
     "execution_count": 22,
     "metadata": {},
     "output_type": "execute_result"
    }
   ],
   "source": [
    "len(df), len(df2), len(df) - len(df2)"
   ]
  },
  {
   "cell_type": "code",
   "execution_count": 23,
   "id": "8ea9bf6d",
   "metadata": {},
   "outputs": [
    {
     "data": {
      "text/html": [
       "<div>\n",
       "<style scoped>\n",
       "    .dataframe tbody tr th:only-of-type {\n",
       "        vertical-align: middle;\n",
       "    }\n",
       "\n",
       "    .dataframe tbody tr th {\n",
       "        vertical-align: top;\n",
       "    }\n",
       "\n",
       "    .dataframe thead th {\n",
       "        text-align: right;\n",
       "    }\n",
       "</style>\n",
       "<table border=\"1\" class=\"dataframe\">\n",
       "  <thead>\n",
       "    <tr style=\"text-align: right;\">\n",
       "      <th></th>\n",
       "      <th>BST_NR_8</th>\n",
       "      <th>Land</th>\n",
       "      <th>PROD_DATUM</th>\n",
       "      <th>Zugfahrten</th>\n",
       "      <th>Verspaetungsminuten</th>\n",
       "    </tr>\n",
       "  </thead>\n",
       "  <tbody>\n",
       "    <tr>\n",
       "      <th>0</th>\n",
       "      <td>80197079</td>\n",
       "      <td>DEUTSCHLAND</td>\n",
       "      <td>2016-03-16</td>\n",
       "      <td>39</td>\n",
       "      <td>49</td>\n",
       "    </tr>\n",
       "    <tr>\n",
       "      <th>1</th>\n",
       "      <td>80160168</td>\n",
       "      <td>DEUTSCHLAND</td>\n",
       "      <td>2016-01-11</td>\n",
       "      <td>12</td>\n",
       "      <td>0</td>\n",
       "    </tr>\n",
       "    <tr>\n",
       "      <th>2</th>\n",
       "      <td>80105122</td>\n",
       "      <td>DEUTSCHLAND</td>\n",
       "      <td>2016-04-30</td>\n",
       "      <td>16</td>\n",
       "      <td>2</td>\n",
       "    </tr>\n",
       "    <tr>\n",
       "      <th>3</th>\n",
       "      <td>80190793</td>\n",
       "      <td>DEUTSCHLAND</td>\n",
       "      <td>2016-07-31</td>\n",
       "      <td>14</td>\n",
       "      <td>0</td>\n",
       "    </tr>\n",
       "    <tr>\n",
       "      <th>4</th>\n",
       "      <td>80231464</td>\n",
       "      <td>DEUTSCHLAND</td>\n",
       "      <td>2016-04-05</td>\n",
       "      <td>10</td>\n",
       "      <td>2</td>\n",
       "    </tr>\n",
       "  </tbody>\n",
       "</table>\n",
       "</div>"
      ],
      "text/plain": [
       "   BST_NR_8         Land PROD_DATUM  Zugfahrten  Verspaetungsminuten\n",
       "0  80197079  DEUTSCHLAND 2016-03-16          39                   49\n",
       "1  80160168  DEUTSCHLAND 2016-01-11          12                    0\n",
       "2  80105122  DEUTSCHLAND 2016-04-30          16                    2\n",
       "3  80190793  DEUTSCHLAND 2016-07-31          14                    0\n",
       "4  80231464  DEUTSCHLAND 2016-04-05          10                    2"
      ]
     },
     "execution_count": 23,
     "metadata": {},
     "output_type": "execute_result"
    }
   ],
   "source": [
    "df2['PROD_DATUM'] = pd.to_datetime(df2['PROD_DATUM'])\n",
    "df2.head()"
   ]
  },
  {
   "cell_type": "code",
   "execution_count": 41,
   "id": "59bfeaaf",
   "metadata": {},
   "outputs": [
    {
     "data": {
      "text/html": [
       "<div>\n",
       "<style scoped>\n",
       "    .dataframe tbody tr th:only-of-type {\n",
       "        vertical-align: middle;\n",
       "    }\n",
       "\n",
       "    .dataframe tbody tr th {\n",
       "        vertical-align: top;\n",
       "    }\n",
       "\n",
       "    .dataframe thead th {\n",
       "        text-align: right;\n",
       "    }\n",
       "</style>\n",
       "<table border=\"1\" class=\"dataframe\">\n",
       "  <thead>\n",
       "    <tr style=\"text-align: right;\">\n",
       "      <th></th>\n",
       "      <th>BST_NR_8</th>\n",
       "      <th>Land</th>\n",
       "      <th>PROD_DATUM</th>\n",
       "      <th>Zugfahrten</th>\n",
       "      <th>Verspaetungsminuten</th>\n",
       "      <th>dayofweek</th>\n",
       "      <th>weekofyear</th>\n",
       "      <th>month</th>\n",
       "    </tr>\n",
       "  </thead>\n",
       "  <tbody>\n",
       "    <tr>\n",
       "      <th>0</th>\n",
       "      <td>80197079</td>\n",
       "      <td>DEUTSCHLAND</td>\n",
       "      <td>2016-03-16</td>\n",
       "      <td>39</td>\n",
       "      <td>49</td>\n",
       "      <td>3</td>\n",
       "      <td>11</td>\n",
       "      <td>3</td>\n",
       "    </tr>\n",
       "    <tr>\n",
       "      <th>1</th>\n",
       "      <td>80160168</td>\n",
       "      <td>DEUTSCHLAND</td>\n",
       "      <td>2016-01-11</td>\n",
       "      <td>12</td>\n",
       "      <td>0</td>\n",
       "      <td>1</td>\n",
       "      <td>2</td>\n",
       "      <td>1</td>\n",
       "    </tr>\n",
       "    <tr>\n",
       "      <th>2</th>\n",
       "      <td>80105122</td>\n",
       "      <td>DEUTSCHLAND</td>\n",
       "      <td>2016-04-30</td>\n",
       "      <td>16</td>\n",
       "      <td>2</td>\n",
       "      <td>6</td>\n",
       "      <td>17</td>\n",
       "      <td>4</td>\n",
       "    </tr>\n",
       "    <tr>\n",
       "      <th>3</th>\n",
       "      <td>80190793</td>\n",
       "      <td>DEUTSCHLAND</td>\n",
       "      <td>2016-07-31</td>\n",
       "      <td>14</td>\n",
       "      <td>0</td>\n",
       "      <td>7</td>\n",
       "      <td>30</td>\n",
       "      <td>7</td>\n",
       "    </tr>\n",
       "    <tr>\n",
       "      <th>4</th>\n",
       "      <td>80231464</td>\n",
       "      <td>DEUTSCHLAND</td>\n",
       "      <td>2016-04-05</td>\n",
       "      <td>10</td>\n",
       "      <td>2</td>\n",
       "      <td>2</td>\n",
       "      <td>14</td>\n",
       "      <td>4</td>\n",
       "    </tr>\n",
       "  </tbody>\n",
       "</table>\n",
       "</div>"
      ],
      "text/plain": [
       "   BST_NR_8         Land PROD_DATUM  Zugfahrten  Verspaetungsminuten  \\\n",
       "0  80197079  DEUTSCHLAND 2016-03-16          39                   49   \n",
       "1  80160168  DEUTSCHLAND 2016-01-11          12                    0   \n",
       "2  80105122  DEUTSCHLAND 2016-04-30          16                    2   \n",
       "3  80190793  DEUTSCHLAND 2016-07-31          14                    0   \n",
       "4  80231464  DEUTSCHLAND 2016-04-05          10                    2   \n",
       "\n",
       "   dayofweek  weekofyear  month  \n",
       "0          3          11      3  \n",
       "1          1           2      1  \n",
       "2          6          17      4  \n",
       "3          7          30      7  \n",
       "4          2          14      4  "
      ]
     },
     "execution_count": 41,
     "metadata": {},
     "output_type": "execute_result"
    }
   ],
   "source": [
    "df2['dayofweek'] = df2['PROD_DATUM'].dt.dayofweek + 1\n",
    "df2['weekofyear'] = df2['PROD_DATUM'].dt.isocalendar().week\n",
    "df2['month'] = df2['PROD_DATUM'].dt.month\n",
    "df2.head()"
   ]
  },
  {
   "cell_type": "code",
   "execution_count": 49,
   "id": "dde8d125",
   "metadata": {},
   "outputs": [
    {
     "data": {
      "image/png": "[encoded data removed]",
      "text/plain": [
       "<Figure size 432x288 with 1 Axes>"
      ]
     },
     "metadata": {
      "needs_background": "light"
     },
     "output_type": "display_data"
    }
   ],
   "source": [
    "plt.plot(df2['Zugfahrten'], df2['Verspaetungsminuten'], 'ro', linestyle=\"None\")\n",
    "plt.show()"
   ]
  },
  {
   "cell_type": "code",
   "execution_count": 52,
   "id": "49c91eec",
   "metadata": {},
   "outputs": [],
   "source": [
    "df2 = df2.reset_index(drop=True)\n",
    "df2.to_csv('db-cargo-delays-2016-deutschland.csv', index=False)"
   ]
  }
 ],
 "metadata": {
  "kernelspec": {
   "display_name": "autogluon-venv",
   "language": "python",
   "name": "autogluon-venv"
  },
  "language_info": {
   "codemirror_mode": {
    "name": "ipython",
    "version": 3
   },
   "file_extension": ".py",
   "mimetype": "text/x-python",
   "name": "python",
   "nbconvert_exporter": "python",
   "pygments_lexer": "ipython3",
   "version": "3.7.9"
  }
 },
 "nbformat": 4,
 "nbformat_minor": 5
}
